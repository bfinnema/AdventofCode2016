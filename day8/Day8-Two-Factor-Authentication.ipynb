{
 "cells": [
  {
   "cell_type": "code",
   "execution_count": 13,
   "metadata": {
    "collapsed": false
   },
   "outputs": [
    {
     "name": "stdout",
     "output_type": "stream",
     "text": [
      "Number of lit pixels: 116\n",
      "[[ 1.  0.  0.  1.  0.  1.  1.  1.  0.  0.  0.  1.  1.  0.  0.  0.  0.  1.\n",
      "   1.  0.  1.  1.  1.  1.  0.  1.  0.  0.  0.  0.  1.  1.  1.  0.  0.  0.\n",
      "   1.  1.  0.  0.  1.  1.  1.  1.  0.  1.  1.  1.  1.  0.]\n",
      " [ 1.  0.  0.  1.  0.  1.  0.  0.  1.  0.  1.  0.  0.  1.  0.  0.  0.  0.\n",
      "   1.  0.  1.  0.  0.  0.  0.  1.  0.  0.  0.  0.  1.  0.  0.  1.  0.  1.\n",
      "   0.  0.  1.  0.  1.  0.  0.  0.  0.  0.  0.  0.  1.  0.]\n",
      " [ 1.  0.  0.  1.  0.  1.  0.  0.  1.  0.  1.  0.  0.  1.  0.  0.  0.  0.\n",
      "   1.  0.  1.  1.  1.  0.  0.  1.  0.  0.  0.  0.  1.  1.  1.  0.  0.  1.\n",
      "   0.  0.  0.  0.  1.  1.  1.  0.  0.  0.  0.  1.  0.  0.]\n",
      " [ 1.  0.  0.  1.  0.  1.  1.  1.  0.  0.  1.  0.  0.  1.  0.  0.  0.  0.\n",
      "   1.  0.  1.  0.  0.  0.  0.  1.  0.  0.  0.  0.  1.  0.  0.  1.  0.  1.\n",
      "   0.  0.  0.  0.  1.  0.  0.  0.  0.  0.  1.  0.  0.  0.]\n",
      " [ 1.  0.  0.  1.  0.  1.  0.  0.  0.  0.  1.  0.  0.  1.  0.  1.  0.  0.\n",
      "   1.  0.  1.  0.  0.  0.  0.  1.  0.  0.  0.  0.  1.  0.  0.  1.  0.  1.\n",
      "   0.  0.  1.  0.  1.  0.  0.  0.  0.  1.  0.  0.  0.  0.]\n",
      " [ 0.  1.  1.  0.  0.  1.  0.  0.  0.  0.  0.  1.  1.  0.  0.  0.  1.  1.\n",
      "   0.  0.  1.  0.  0.  0.  0.  1.  1.  1.  1.  0.  1.  1.  1.  0.  0.  0.\n",
      "   1.  1.  0.  0.  1.  1.  1.  1.  0.  1.  1.  1.  1.  0.]]\n"
     ]
    }
   ],
   "source": [
    "import numpy as np\n",
    "\n",
    "class Display:\n",
    "    def __init__(self,l,h):\n",
    "        self.l = l\n",
    "        self.h = h\n",
    "        self.display = np.zeros((self.h,self.l))\n",
    "        self.num_pixels_lid = 0\n",
    "    \n",
    "    def rect_axb(self,a,b):\n",
    "        axb = self.display[:b,:a]\n",
    "        for y in range(b):\n",
    "            for x in range(a):\n",
    "                axb[y,x] = 1\n",
    "    \n",
    "    def rotate_row(self,a,b):\n",
    "        row = np.roll(self.display[a,:],b)\n",
    "        self.display[a,:] = row\n",
    "\n",
    "    def rotate_col(self,a,b):\n",
    "        col = np.roll(self.display[:,a],b)\n",
    "        self.display[:,a] = col\n",
    "    \n",
    "    def count_lit_pixels(self):\n",
    "        num_lit_pixels = 0\n",
    "        for y in range(self.h):\n",
    "            for x in range(self.l):\n",
    "                if self.display[y,x] == 1:\n",
    "                    num_lit_pixels += 1\n",
    "        return num_lit_pixels\n",
    "    \n",
    "def read_input(filename):\n",
    "    with open(filename) as f:\n",
    "        instructions = []\n",
    "        for line in f:\n",
    "            instructions.append(line[:-1])\n",
    "    return instructions\n",
    "\n",
    "def interpret_instruction(instruction):\n",
    "    inst_split = instruction.split()\n",
    "    if inst_split[0] == \"rect\":\n",
    "        xstr = inst_split[1].split('x')\n",
    "        return [0,int(xstr[0]),int(xstr[1])]\n",
    "    if inst_split[1] == \"row\":\n",
    "        xstr = inst_split[2].split('=')\n",
    "        return [1,int(xstr[1]),int(inst_split[4])]\n",
    "    if inst_split[1] == \"column\":\n",
    "        xstr = inst_split[2].split('=')\n",
    "        return [2,int(xstr[1]),int(inst_split[4])]\n",
    "\n",
    "my_display = Display(50,6)\n",
    "instructions = read_input('input.txt')\n",
    "for instruction in instructions:\n",
    "    action = interpret_instruction(instruction)\n",
    "    if action[0] == 0:\n",
    "        my_display.rect_axb(action[1],action[2])\n",
    "    if action[0] == 1:\n",
    "        my_display.rotate_row(action[1],action[2])\n",
    "    if action[0] == 2:\n",
    "        my_display.rotate_col(action[1],action[2])\n",
    "\n",
    "print \"Number of lit pixels: %s\" %my_display.count_lit_pixels()\n",
    "print my_display.display"
   ]
  },
  {
   "cell_type": "code",
   "execution_count": null,
   "metadata": {
    "collapsed": true
   },
   "outputs": [],
   "source": []
  },
  {
   "cell_type": "code",
   "execution_count": null,
   "metadata": {
    "collapsed": true
   },
   "outputs": [],
   "source": []
  }
 ],
 "metadata": {
  "anaconda-cloud": {},
  "kernelspec": {
   "display_name": "Python [Root]",
   "language": "python",
   "name": "Python [Root]"
  },
  "language_info": {
   "codemirror_mode": {
    "name": "ipython",
    "version": 2
   },
   "file_extension": ".py",
   "mimetype": "text/x-python",
   "name": "python",
   "nbconvert_exporter": "python",
   "pygments_lexer": "ipython2",
   "version": "2.7.12"
  }
 },
 "nbformat": 4,
 "nbformat_minor": 0
}
