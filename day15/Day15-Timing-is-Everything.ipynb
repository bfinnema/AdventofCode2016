{
 "cells": [
  {
   "cell_type": "code",
   "execution_count": 21,
   "metadata": {
    "collapsed": false
   },
   "outputs": [
    {
     "name": "stdout",
     "output_type": "stream",
     "text": [
      "1 17 15\n",
      "2 3 2\n",
      "3 19 4\n",
      "4 13 2\n",
      "5 7 2\n",
      "6 5 0\n",
      "7 11 0\n",
      "3045959\n",
      "[0, 0, 0, 0, 0, 0, 0]\n"
     ]
    }
   ],
   "source": [
    "class Disc:\n",
    "    def __init__(self,num,num_pos,init_pos):\n",
    "        self.num = num\n",
    "        self.num_pos = num_pos\n",
    "        self.init_pos = init_pos\n",
    "\n",
    "def read_input(filename):\n",
    "    with open(filename) as f:\n",
    "        disc_lines = []\n",
    "        for line in f:\n",
    "            disc_lines.append(line[:-2])\n",
    "    return disc_lines\n",
    "\n",
    "disc_lines = read_input('input.txt')\n",
    "\n",
    "discs = []\n",
    "for disc_line in disc_lines:\n",
    "    d = disc_line.split()\n",
    "    disc = Disc(int(d[1][1:]),int(d[3]),int(d[11]))\n",
    "    discs.append(disc)\n",
    "    \n",
    "discs.append(Disc(7,11,0))\n",
    "for disc in discs:\n",
    "    print disc.num, disc.num_pos, disc.init_pos\n",
    "the_right_second = False\n",
    "second = 0\n",
    "while not the_right_second and second < 5000000:\n",
    "    positions = []\n",
    "    for disc in discs:\n",
    "        position = (disc.init_pos + disc.num + second)%disc.num_pos\n",
    "        positions.append(position)\n",
    "    sum = 0\n",
    "    for p in positions:\n",
    "        sum += p\n",
    "    if sum == 0:\n",
    "        the_right_second = True\n",
    "        print second\n",
    "        print positions\n",
    "    second += 1\n"
   ]
  },
  {
   "cell_type": "code",
   "execution_count": null,
   "metadata": {
    "collapsed": true
   },
   "outputs": [],
   "source": []
  }
 ],
 "metadata": {
  "anaconda-cloud": {},
  "kernelspec": {
   "display_name": "Python [Root]",
   "language": "python",
   "name": "Python [Root]"
  },
  "language_info": {
   "codemirror_mode": {
    "name": "ipython",
    "version": 2
   },
   "file_extension": ".py",
   "mimetype": "text/x-python",
   "name": "python",
   "nbconvert_exporter": "python",
   "pygments_lexer": "ipython2",
   "version": "2.7.12"
  }
 },
 "nbformat": 4,
 "nbformat_minor": 0
}
