{
 "cells": [
  {
   "cell_type": "code",
   "execution_count": 38,
   "metadata": {
    "collapsed": false
   },
   "outputs": [
    {
     "name": "stdout",
     "output_type": "stream",
     "text": [
      "Star 1: The number of safe tiles are 1982. Number of rows: 40\n",
      "Star 2: The number of safe tiles are 20005203. Number of rows: 400000\n"
     ]
    }
   ],
   "source": [
    "puzzle_input = '...^^^^^..^...^...^^^^^^...^.^^^.^.^.^^.^^^.....^.^^^...^^^^^^.....^.^^...^^^^^...^.^^^.^^......^^^^'\n",
    "trap_patterns = ['^^.','.^^','^..','..^']\n",
    "\n",
    "def map_floor(nr, prev_row):\n",
    "    num_safes = prev_row.count('.')\n",
    "    num_traps = prev_row.count('^')\n",
    "    num_tiles = len(prev_row)\n",
    "    for row_num in range(nr):\n",
    "        row = ''\n",
    "        if row_num > 0:\n",
    "            for tile in range(num_tiles):\n",
    "                if tile == 0:\n",
    "                    pattern = '.' + prev_row[:2]\n",
    "                elif tile == num_tiles-1:\n",
    "                    pattern = prev_row[-2:] + '.'\n",
    "                else:\n",
    "                    pattern = prev_row[tile-1:tile+2]\n",
    "                if pattern in trap_patterns:\n",
    "                    row += '^'\n",
    "                else:\n",
    "                    row += '.'\n",
    "            num_safes += row.count('.')\n",
    "            num_traps += row.count('^')\n",
    "            prev_row = row\n",
    "    return num_safes\n",
    "\n",
    "num_rows = 40\n",
    "print \"Star 1: The number of safe tiles are %s. Number of rows: %s\" %(map_floor(num_rows,puzzle_input), num_rows)\n",
    "\n",
    "num_rows = 400000\n",
    "print \"Star 2: The number of safe tiles are %s. Number of rows: %s\" %(map_floor(num_rows,puzzle_input), num_rows)\n"
   ]
  },
  {
   "cell_type": "code",
   "execution_count": null,
   "metadata": {
    "collapsed": true
   },
   "outputs": [],
   "source": []
  }
 ],
 "metadata": {
  "kernelspec": {
   "display_name": "Python [Root]",
   "language": "python",
   "name": "Python [Root]"
  },
  "language_info": {
   "codemirror_mode": {
    "name": "ipython",
    "version": 2
   },
   "file_extension": ".py",
   "mimetype": "text/x-python",
   "name": "python",
   "nbconvert_exporter": "python",
   "pygments_lexer": "ipython2",
   "version": "2.7.12"
  }
 },
 "nbformat": 4,
 "nbformat_minor": 0
}
