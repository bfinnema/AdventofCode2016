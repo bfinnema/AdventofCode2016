{
 "cells": [
  {
   "cell_type": "code",
   "execution_count": 27,
   "metadata": {
    "collapsed": false
   },
   "outputs": [
    {
     "name": "stdout",
     "output_type": "stream",
     "text": [
      "700\n",
      "['L4', 'L3', 'R1', 'L4', 'R2', 'R2', 'L1', 'L2', 'R1', 'R1', 'L3', 'R5', 'L2', 'R5', 'L4', 'L3', 'R2', 'R2', 'L5', 'L1', 'R4', 'L1', 'R3', 'L3', 'R5', 'R2', 'L5', 'R2', 'R1', 'R1', 'L5', 'R1', 'L3', 'L2', 'L5', 'R4', 'R4', 'L2', 'L1', 'L1', 'R1', 'R1', 'L185', 'R4', 'L1', 'L1', 'R5', 'R1', 'L1', 'L3', 'L2', 'L1', 'R2', 'R2', 'R2', 'L1', 'L1', 'R4', 'R5', 'R53', 'L1', 'R1', 'R78', 'R3', 'R4', 'L1', 'R5', 'L1', 'L4', 'R3', 'R3', 'L3', 'L3', 'R191', 'R4', 'R1', 'L4', 'L1', 'R3', 'L1', 'L2', 'R3', 'R2', 'R4', 'R5', 'R5', 'L3', 'L5', 'R2', 'R3', 'L1', 'L1', 'L3', 'R1', 'R4', 'R1', 'R3', 'R4', 'R4', 'R4', 'R5', 'R2', 'L5', 'R1', 'R2', 'R5', 'L3', 'L4', 'R1', 'L5', 'R1', 'L4', 'L3', 'R5', 'R5', 'L3', 'L4', 'L4', 'R2', 'R2', 'L5', 'R3', 'R1', 'R2', 'R5', 'L5', 'L3', 'R4', 'L5', 'R5', 'L3', 'R1', 'L1', 'R4', 'R4', 'L3', 'R2', 'R5', 'R1', 'R2', 'L1', 'R4', 'R1', 'L3', 'L3', 'L5', 'R2', 'R5', 'L1', 'L4', 'R3', 'R3', 'L3', 'R2', 'L5', 'R1', 'R3', 'L3', 'R2', 'L1', 'R4', 'R3', 'L4', 'R5', 'L2', 'L2', 'R5', 'R1', 'R2', 'L4', 'L4', 'L5', 'R3', 'L4']\n",
      "1\n",
      "Easter Bunny HQ is 332 away\n"
     ]
    }
   ],
   "source": [
    "def find_direction(x, dir):\n",
    "    #print \"Dir in function: %s\" %dir\n",
    "    if dir == [1,0]:\n",
    "        if x[0] == \"L\":\n",
    "            return [0,-1]\n",
    "        if x[0] == \"R\":\n",
    "            return [0,1]\n",
    "    if dir == [0,1]:\n",
    "        if x[0] == \"L\":\n",
    "            return [1,0]\n",
    "        if x[0] == \"R\":\n",
    "            return [-1,0]\n",
    "    if dir == [-1,0]:\n",
    "        if x[0] == \"L\":\n",
    "            return [0,1]\n",
    "        if x[0] == \"R\":\n",
    "            return [0,-1]\n",
    "    if dir == [0,-1]:\n",
    "        if x[0] == \"L\":\n",
    "            return [-1,0]\n",
    "        if x[0] == \"R\":\n",
    "            return [1,0]\n",
    "        \n",
    "\n",
    "path_file = open('bunnypath.txt')\n",
    "path_str = path_file.read()\n",
    "\n",
    "#print len(path_str)\n",
    "#print path_str\n",
    "bunnypath = path_str.split(', ')\n",
    "#print bunnypath\n",
    "\n",
    "position = {\"latitude\": 0, \"longitude\": 0}\n",
    "latitude = 0\n",
    "longitude = 0\n",
    "direction = [1,0]\n",
    "print direction[0]\n",
    "\n",
    "for x in bunnypath:\n",
    "    #print \"x in loop \"+x\n",
    "    new_direction = find_direction(x, direction)\n",
    "    new_length = int(x[1:])\n",
    "    #print \"new length: %s\" %new_length\n",
    "    #print new_direction\n",
    "    direction = new_direction\n",
    "    latitude = latitude + direction[0]*new_length\n",
    "    longitude = longitude + direction[1]*new_length\n",
    "    #print \"x is %s. Direction is %s, %s. Latitude is %s. Longitude is %s\" %(x, direction[0], direction[1], latitude, longitude)\n",
    "    \n",
    "hq_distance = abs(latitude) + abs (longitude)\n",
    "print \"Easter Bunny HQ is %s away\" %hq_distance\n"
   ]
  },
  {
   "cell_type": "code",
   "execution_count": null,
   "metadata": {
    "collapsed": true
   },
   "outputs": [],
   "source": []
  }
 ],
 "metadata": {
  "anaconda-cloud": {},
  "kernelspec": {
   "display_name": "Python [Root]",
   "language": "python",
   "name": "Python [Root]"
  },
  "language_info": {
   "codemirror_mode": {
    "name": "ipython",
    "version": 2
   },
   "file_extension": ".py",
   "mimetype": "text/x-python",
   "name": "python",
   "nbconvert_exporter": "python",
   "pygments_lexer": "ipython2",
   "version": "2.7.12"
  }
 },
 "nbformat": 4,
 "nbformat_minor": 0
}
