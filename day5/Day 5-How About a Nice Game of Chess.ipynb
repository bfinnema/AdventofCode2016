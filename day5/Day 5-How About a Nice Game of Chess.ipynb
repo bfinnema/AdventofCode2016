{
 "cells": [
  {
   "cell_type": "code",
   "execution_count": 15,
   "metadata": {
    "collapsed": false
   },
   "outputs": [
    {
     "name": "stdout",
     "output_type": "stream",
     "text": [
      "00000155f8105dff7f56ee10fa9b9abd\n",
      "\n",
      "hash0: 00000191970e97b86ecd2220e76d86b2, index: 4515060\n",
      "hash0: 00000a1568b97dfc4736c4248df549b3, index: 6924075\n",
      "hash0: 00000312234ca27718d52476a44c257c, index: 8038155\n",
      "hash0: 00000064ec7123bedfc9ff00cc4f55f2, index: 13432969\n",
      "hash0: 0000091c9c2cd243304328869af7bab2, index: 13540622\n",
      "hash0: 0000096753dd21d352853f1d97e19d01, index: 14095581\n",
      "hash0: 00000a220003ca08164ab5fbe0b7c08f, index: 14821989\n",
      "hash0: 00000aaa1e7e216d6fb95a53fde7a594, index: 16734552\n",
      "1a3099aa\n",
      "hash0: 00000191970e97b86ecd2220e76d86b2, index: 4515060\n",
      "['-', '9', '-', '-', '-', '-', '-', '-']\n",
      "hash0: 00000a1568b97dfc4736c4248df549b3, index: 6924075\n",
      "hash0: 00000312234ca27718d52476a44c257c, index: 8038155\n",
      "['-', '9', '-', '1', '-', '-', '-', '-']\n",
      "hash0: 00000064ec7123bedfc9ff00cc4f55f2, index: 13432969\n",
      "['6', '9', '-', '1', '-', '-', '-', '-']\n",
      "hash0: 0000091c9c2cd243304328869af7bab2, index: 13540622\n",
      "hash0: 0000096753dd21d352853f1d97e19d01, index: 14095581\n",
      "hash0: 00000a220003ca08164ab5fbe0b7c08f, index: 14821989\n",
      "hash0: 00000aaa1e7e216d6fb95a53fde7a594, index: 16734552\n",
      "hash0: 00000a66c43cd6fa9980223accdf2cde, index: 17029031\n",
      "hash0: 00000ac0e22f994640b38d250d1ee9c6, index: 17670494\n",
      "hash0: 000002457920bc00c2bd4d769a3da01c, index: 17743257\n",
      "['6', '9', '4', '1', '-', '-', '-', '-']\n",
      "hash0: 000002e49710aff8ed8c7b098a125cb1, index: 18333806\n",
      "hash0: 000005074f875107f82b4ffb39a1fbf0, index: 19112978\n",
      "['6', '9', '4', '1', '-', '0', '-', '-']\n",
      "hash0: 0000049d19713e17d7d93e9b1f02c856, index: 20616596\n",
      "['6', '9', '4', '1', '9', '0', '-', '-']\n",
      "hash0: 000006c0b6e2bfeabd18eb400b3aecf7, index: 21658553\n",
      "['6', '9', '4', '1', '9', '0', 'c', '-']\n",
      "hash0: 00000667310fdb96834554e59b39ca90, index: 21926250\n",
      "hash0: 000007d44ea65d0437b810035fec92f2, index: 26326686\n",
      "['6', '9', '4', '1', '9', '0', 'c', 'd']\n",
      "['6', '9', '4', '1', '9', '0', 'c', 'd']\n",
      "694190cd\n"
     ]
    }
   ],
   "source": [
    "import hashlib\n",
    "\n",
    "print hashlib.md5(\"abc3231929\").hexdigest()\n",
    "door_id = \"uqwqemis\"\n",
    "index = 0\n",
    "num_pw_char = 0\n",
    "pw = \"\"\n",
    "print \"\"\n",
    "\n",
    "run1 = True\n",
    "if run1:\n",
    "    while num_pw_char < 8:\n",
    "        right_hash_found = False\n",
    "        while not right_hash_found:\n",
    "            hash_input = door_id + str(index)\n",
    "            #print hash_input\n",
    "            hash0 = hashlib.md5(hash_input).hexdigest()\n",
    "            #print hash0\n",
    "            index += 1\n",
    "            #print hash0[:5]\n",
    "            if hash0[:5] == \"00000\":\n",
    "                right_hash_found = True\n",
    "                print \"hash0: %s, index: %s\" %(hash0,index)\n",
    "        pw += hash0[5]\n",
    "        num_pw_char += 1\n",
    "\n",
    "    print pw\n",
    "\n",
    "pw2 = ['-','-','-','-','-','-','-','-']\n",
    "num_pw_char = 0\n",
    "index = 0\n",
    "while num_pw_char < 8:\n",
    "    right_hash_found = False\n",
    "    while not right_hash_found:\n",
    "        hash_input = door_id + str(index)\n",
    "        hash0 = hashlib.md5(hash_input).hexdigest()\n",
    "        index += 1\n",
    "        if hash0[:5] == \"00000\":\n",
    "            print \"hash0: %s, index: %s\" %(hash0,index)\n",
    "            if hash0[5] in \"01234567\" and pw2[int(hash0[5])] == '-':\n",
    "                right_hash_found = True\n",
    "                pw2[int(hash0[5])] = hash0[6]\n",
    "                print pw2\n",
    "    num_pw_char += 1\n",
    "\n",
    "print pw2\n",
    "password = ''\n",
    "for l in pw2:\n",
    "    password += l\n",
    "print password"
   ]
  },
  {
   "cell_type": "code",
   "execution_count": null,
   "metadata": {
    "collapsed": true
   },
   "outputs": [],
   "source": []
  },
  {
   "cell_type": "code",
   "execution_count": null,
   "metadata": {
    "collapsed": true
   },
   "outputs": [],
   "source": []
  }
 ],
 "metadata": {
  "anaconda-cloud": {},
  "kernelspec": {
   "display_name": "Python [Root]",
   "language": "python",
   "name": "Python [Root]"
  },
  "language_info": {
   "codemirror_mode": {
    "name": "ipython",
    "version": 2
   },
   "file_extension": ".py",
   "mimetype": "text/x-python",
   "name": "python",
   "nbconvert_exporter": "python",
   "pygments_lexer": "ipython2",
   "version": "2.7.12"
  }
 },
 "nbformat": 4,
 "nbformat_minor": 0
}
