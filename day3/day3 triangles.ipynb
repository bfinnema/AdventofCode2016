{
 "cells": [
  {
   "cell_type": "code",
   "execution_count": 39,
   "metadata": {
    "collapsed": false
   },
   "outputs": [
    {
     "name": "stdout",
     "output_type": "stream",
     "text": [
      "First star: Number of triangles is 1032\n",
      "Second star: Number of triangles is 1838\n"
     ]
    }
   ],
   "source": [
    "class Triangle:\n",
    "    def __init__(self):\n",
    "        self.sides = [0,0,0]\n",
    "        self.is_triangle = True\n",
    "    \n",
    "    def check_triangle(self,triangle_sides):\n",
    "        self.sides = triangle_sides\n",
    "        i = 0\n",
    "        for side in self.sides:\n",
    "            if (self.sides[i]+self.sides[(i+1)%3]) <= self.sides[(i+2)%3]:\n",
    "                self.is_triangle = False\n",
    "                #print \"Not a triangle: %s\" %self.sides\n",
    "            i += 1\n",
    "            \n",
    "        return self.is_triangle\n",
    "        \n",
    "def read_input_triangles(filename):\n",
    "    with open(filename) as f:\n",
    "        triangles = []\n",
    "        for line in f:\n",
    "            triangle_str = line.split()\n",
    "            x = 0\n",
    "            s = [0,0,0]\n",
    "            for side in triangle_str:\n",
    "                s[x] = int(side)\n",
    "                x += 1\n",
    "            triangles.append(s)\n",
    "    return triangles\n",
    "\n",
    "def sort_sets(triangles):\n",
    "    col0 = []\n",
    "    col1 = []\n",
    "    col2 = []\n",
    "    for item in triangles:\n",
    "        col0.append(item[0])\n",
    "        col1.append(item[1])\n",
    "        col2.append(item[2])\n",
    "    sorted_set = col0 + col1 + col2\n",
    "    triangles = []\n",
    "    \n",
    "    i=0\n",
    "    tr = []\n",
    "    for x in sorted_set:\n",
    "        if i<3:\n",
    "            tr.append(x)\n",
    "            i += 1\n",
    "        else:\n",
    "            i=1\n",
    "            triangles.append(tr)\n",
    "            tr = []\n",
    "            tr.append(x)\n",
    "    triangles.append(tr)\n",
    "    return triangles\n",
    "\n",
    "triangles = read_input_triangles(\"triangles.txt\")\n",
    "\n",
    "num_triangles = 0\n",
    "for triangle in triangles:\n",
    "    new_triangle = Triangle()\n",
    "    if new_triangle.check_triangle(triangle):\n",
    "        num_triangles += 1\n",
    "    #print \"Triangle: %s. Number of triangles: %s\" %(triangle, num_triangles)\n",
    "\n",
    "print \"First star: Number of triangles is %s\" %num_triangles\n",
    "\n",
    "new_triangles = sort_sets(triangles)\n",
    "#print len(new_triangles)\n",
    "#print new_triangles\n",
    "\n",
    "num_triangles = 0\n",
    "for triangle in new_triangles:\n",
    "    new_triangle = Triangle()\n",
    "    if new_triangle.check_triangle(triangle):\n",
    "        num_triangles += 1\n",
    "    #print \"Triangle: %s. Number of triangles: %s\" %(triangle, num_triangles)\n",
    "\n",
    "print \"Second star: Number of triangles is %s\" %num_triangles\n"
   ]
  },
  {
   "cell_type": "code",
   "execution_count": null,
   "metadata": {
    "collapsed": true
   },
   "outputs": [],
   "source": []
  },
  {
   "cell_type": "code",
   "execution_count": null,
   "metadata": {
    "collapsed": true
   },
   "outputs": [],
   "source": []
  }
 ],
 "metadata": {
  "anaconda-cloud": {},
  "kernelspec": {
   "display_name": "Python [Root]",
   "language": "python",
   "name": "Python [Root]"
  },
  "language_info": {
   "codemirror_mode": {
    "name": "ipython",
    "version": 2
   },
   "file_extension": ".py",
   "mimetype": "text/x-python",
   "name": "python",
   "nbconvert_exporter": "python",
   "pygments_lexer": "ipython2",
   "version": "2.7.12"
  }
 },
 "nbformat": 4,
 "nbformat_minor": 0
}
