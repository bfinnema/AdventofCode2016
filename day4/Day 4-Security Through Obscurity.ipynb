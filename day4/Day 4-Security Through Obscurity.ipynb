{
 "cells": [
  {
   "cell_type": "code",
   "execution_count": 38,
   "metadata": {
    "collapsed": false
   },
   "outputs": [
    {
     "name": "stdout",
     "output_type": "stream",
     "text": [
      "361724\n",
      "['zadftbaxqanvqofefadmsq', 482, 'afqdb', 'northpoleobjectstorage']\n"
     ]
    }
   ],
   "source": [
    "def read_input_rooms(filename):\n",
    "    with open(filename) as f:\n",
    "        for line in f:\n",
    "            rooms.append(line)\n",
    "    return rooms\n",
    "\n",
    "def decode_rooms(rooms):\n",
    "    sectorid_sum = 0\n",
    "    for room in rooms:\n",
    "        #print \"\"\n",
    "        #print room[:-1]\n",
    "        room_split = room[:-1].split('-')\n",
    "        secid_checksum = room_split.pop(-1)\n",
    "        enc_name = \"\"\n",
    "        for x in room_split:\n",
    "            enc_name += x\n",
    "        #print enc_name\n",
    "        enc_name_set = set(enc_name)\n",
    "        #print enc_name_set\n",
    "        count_letters = []\n",
    "        for l in enc_name_set:\n",
    "            count_letters.append([l,enc_name.count(l)])\n",
    "        #print count_letters\n",
    "        count_letters_sorted1 = sorted(count_letters)\n",
    "        #print count_letters_sorted1\n",
    "        count_letters_sorted = sorted(count_letters_sorted1, key = lambda x: x[1], reverse=True)\n",
    "        #print count_letters_sorted\n",
    "        calculated_checksum = count_letters_sorted[0][0]+count_letters_sorted[1][0]+count_letters_sorted[2][0]+count_letters_sorted[3][0]+count_letters_sorted[4][0]\n",
    "        #print calculated_checksum\n",
    "        si_cs = secid_checksum.split('[')\n",
    "        sectorid = int(si_cs[0])\n",
    "        checksum = si_cs[1][:-1]\n",
    "        #print \"sectorid: %s, checksum: %s\" %(sectorid, checksum)\n",
    "        rooms_decoded.append([enc_name,sectorid,checksum])\n",
    "        if checksum == calculated_checksum:\n",
    "            sectorid_sum += sectorid\n",
    "            #print sectorid_sum\n",
    "#        else:\n",
    "#            print \"\"\n",
    "#            print room[:-1]\n",
    "#            print enc_name\n",
    "#            print enc_name_set\n",
    "#            print count_letters_sorted\n",
    "#            num = 0\n",
    "#            for x in count_letters_sorted:\n",
    "#                num += x[1]\n",
    "#            print \"number of letters in enc_name: %s, sum in count_letters_sorted: %s\" %(len(enc_name), num)\n",
    "#            print calculated_checksum\n",
    "#            print \"sectorid: %s, checksum: %s\" %(sectorid, checksum)\n",
    "    \n",
    "    return sectorid_sum\n",
    "\n",
    "def shift_letter(letter,sectorid):\n",
    "    mod_si = sectorid%26\n",
    "    #new_letter = chr((ord(letter)+mod_si-96)%26+96)\n",
    "    #print \"Letter: %s, sectorid: %s, modulus si: %s, new_letter: %s\" %(letter,sectorid,mod_si,new_letter)\n",
    "    return chr((ord(letter)+mod_si-96)%26+96)\n",
    "\n",
    "def decrypt_room_name(room_decoded):\n",
    "    decrypted_room_name = \"\"\n",
    "    for l in room_decoded[0]:\n",
    "        decrypted_room_name += shift_letter(l,room_decoded[1])\n",
    "    return decrypted_room_name\n",
    "\n",
    "rooms = []\n",
    "rooms = read_input_rooms(\"rooms.txt\")\n",
    "#print rooms\n",
    "\n",
    "rooms_decoded =[]\n",
    "sectorid_sum = decode_rooms(rooms)\n",
    "print sectorid_sum\n",
    "#print rooms_decoded\n",
    "\n",
    "for room in rooms_decoded:\n",
    "    decrypted_room_name = decrypt_room_name(room)\n",
    "    room.append(decrypted_room_name)\n",
    "    if decrypted_room_name[:5] == \"north\":\n",
    "        print room\n",
    "    #print decrypted_room_name\n",
    "\n",
    "#for room in rooms_decoded:\n",
    "#    print room\n",
    "#print rooms_decoded"
   ]
  },
  {
   "cell_type": "code",
   "execution_count": null,
   "metadata": {
    "collapsed": true
   },
   "outputs": [],
   "source": []
  }
 ],
 "metadata": {
  "anaconda-cloud": {},
  "kernelspec": {
   "display_name": "Python [Root]",
   "language": "python",
   "name": "Python [Root]"
  },
  "language_info": {
   "codemirror_mode": {
    "name": "ipython",
    "version": 2
   },
   "file_extension": ".py",
   "mimetype": "text/x-python",
   "name": "python",
   "nbconvert_exporter": "python",
   "pygments_lexer": "ipython2",
   "version": "2.7.12"
  }
 },
 "nbformat": 4,
 "nbformat_minor": 0
}
