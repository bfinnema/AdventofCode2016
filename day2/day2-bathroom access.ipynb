{
 "cells": [
  {
   "cell_type": "code",
   "execution_count": 50,
   "metadata": {
    "collapsed": false
   },
   "outputs": [
    {
     "name": "stdout",
     "output_type": "stream",
     "text": [
      "['4']\n",
      "['4', '4']\n",
      "['4', '4', '5']\n",
      "['4', '4', '5', '5']\n",
      "['4', '4', '5', '5', '8']\n",
      "The first code is 44558\n",
      "['6']\n",
      "['6', 'B']\n",
      "['6', 'B', 'B']\n",
      "['6', 'B', 'B', 'A']\n",
      "['6', 'B', 'B', 'A', 'D']\n",
      "The second code is 6BBAD\n"
     ]
    }
   ],
   "source": [
    "class Keypad:\n",
    "    def __init__(self):\n",
    "        self.kp_layout = [[\"1\",\"2\",\"3\"],[\"4\",\"5\",\"6\"],[\"7\",\"8\",\"9\"]]\n",
    "        self.size = 2\n",
    "        \n",
    "    def set_keypad(self,layout,size):\n",
    "        self.kp_layout = layout\n",
    "        self.size = size\n",
    "        \n",
    "class Bathroom_guest2():\n",
    "    def __init__(self):\n",
    "        self.x_coor = 1\n",
    "        self.y_coor = 1\n",
    "        self.code = []\n",
    "        self.br_keypad = Keypad()\n",
    "    \n",
    "    def next_move(self,move):\n",
    "        if move == \"U\":\n",
    "            if self.y_coor > 0 and self.br_keypad.kp_layout[self.y_coor-1][self.x_coor] != \"0\":\n",
    "                self.y_coor -= 1\n",
    "        if move == \"D\":\n",
    "            if self.y_coor < self.br_keypad.size and self.br_keypad.kp_layout[self.y_coor+1][self.x_coor] != \"0\":\n",
    "                self.y_coor += 1\n",
    "        if move == \"L\":\n",
    "            if self.x_coor > 0 and self.br_keypad.kp_layout[self.y_coor][self.x_coor-1] != \"0\":\n",
    "                self.x_coor -= 1\n",
    "        if move == \"R\":\n",
    "            if self.x_coor < self.br_keypad.size and self.br_keypad.kp_layout[self.y_coor][self.x_coor+1] != \"0\":\n",
    "                self.x_coor += 1\n",
    "        #print \"Move: %s, X: %s, Y: %s, Key: %s\" %(move,self.x_coor,self.y_coor,self.br_keypad.kp_layout[self.y_coor][self.x_coor])\n",
    "        #print \"Move: %s, X: %s, Y: %s\" %(move,self.x_coor,self.y_coor)\n",
    "    \n",
    "    def press_next(self,move_seq):\n",
    "        for move in move_seq:\n",
    "            self.next_move(move)\n",
    "    \n",
    "    def find_code(self,moves):\n",
    "        for move_seq in moves:\n",
    "            self.press_next(move_seq)\n",
    "            self.code.append(self.br_keypad.kp_layout[self.y_coor][self.x_coor])\n",
    "            print self.code\n",
    "        return self.code\n",
    "\n",
    "def read_input_moves(filename):\n",
    "    with open(filename) as f:\n",
    "        moves = []\n",
    "        moves_x = []\n",
    "        for line in f:\n",
    "            moves.append(line)\n",
    "    return moves\n",
    "\n",
    "moves = read_input_moves(\"bathroom_code.txt\")\n",
    "#print moves\n",
    "\n",
    "layout1 = [[\"1\",\"2\",\"3\"],[\"4\",\"5\",\"6\"],[\"7\",\"8\",\"9\"]]\n",
    "size1 = 2\n",
    "bathroom_guest1 = Bathroom_guest2()\n",
    "bathroom_guest1.br_keypad.set_keypad(layout1,size1)\n",
    "the_first_code = bathroom_guest1.find_code(moves)\n",
    "the_first_code_str = \"\"\n",
    "for dig in the_first_code:\n",
    "    the_first_code_str += dig\n",
    "print \"The first code is %s\" %the_first_code_str\n",
    "\n",
    "layout2 = [[\"0\",\"0\",\"1\",\"0\",\"0\"],[\"0\",\"2\",\"3\",\"4\",\"0\"],[\"5\",\"6\",\"7\",\"8\",\"9\"],[\"0\",\"A\",\"B\",\"C\",\"0\"],[\"0\",\"0\",\"D\",\"0\",\"0\"]]\n",
    "size2 = 4\n",
    "bathroom_guest2 = Bathroom_guest2()\n",
    "bathroom_guest2.br_keypad.set_keypad(layout2,size2)\n",
    "the_second_code = bathroom_guest2.find_code(moves)\n",
    "the_second_code_str = \"\"\n",
    "for dig in the_second_code:\n",
    "    the_second_code_str += dig\n",
    "print \"The second code is %s\" %the_second_code_str\n"
   ]
  },
  {
   "cell_type": "code",
   "execution_count": null,
   "metadata": {
    "collapsed": true
   },
   "outputs": [],
   "source": []
  }
 ],
 "metadata": {
  "anaconda-cloud": {},
  "kernelspec": {
   "display_name": "Python [Root]",
   "language": "python",
   "name": "Python [Root]"
  },
  "language_info": {
   "codemirror_mode": {
    "name": "ipython",
    "version": 2
   },
   "file_extension": ".py",
   "mimetype": "text/x-python",
   "name": "python",
   "nbconvert_exporter": "python",
   "pygments_lexer": "ipython2",
   "version": "2.7.12"
  }
 },
 "nbformat": 4,
 "nbformat_minor": 0
}
