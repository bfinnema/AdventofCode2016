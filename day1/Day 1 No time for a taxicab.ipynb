{
 "cells": [
  {
   "cell_type": "code",
   "execution_count": 38,
   "metadata": {
    "collapsed": false
   },
   "outputs": [
    {
     "name": "stdout",
     "output_type": "stream",
     "text": [
      "You have already visited -145, -169 before. -145, -169\n",
      "It is 314 blocks away\n",
      "You have already visited -147, -161 before. -147, -161\n",
      "It is 308 blocks away\n",
      "You have already visited -145, -161 before. -145, -161\n",
      "It is 306 blocks away\n",
      "You have already visited -145, -166 before. -145, -166\n",
      "It is 311 blocks away\n",
      "You have already visited -144, -166 before. -144, -166\n",
      "It is 310 blocks away\n",
      "You have already visited -145, -161 before. -145, -161\n",
      "It is 306 blocks away\n",
      "You have already visited -145, -161 before. -145, -161\n",
      "It is 306 blocks away\n",
      "You have already visited -148, -164 before. -148, -164\n",
      "It is 312 blocks away\n",
      "Easter Bunny HQ is 332 blocks away\n"
     ]
    }
   ],
   "source": [
    "def find_direction(x, dir):\n",
    "    #print \"Dir in function: %s\" %dir\n",
    "    if dir == [1,0]:\n",
    "        if x[0] == \"L\":\n",
    "            return [0,-1]\n",
    "        if x[0] == \"R\":\n",
    "            return [0,1]\n",
    "    if dir == [0,1]:\n",
    "        if x[0] == \"L\":\n",
    "            return [1,0]\n",
    "        if x[0] == \"R\":\n",
    "            return [-1,0]\n",
    "    if dir == [-1,0]:\n",
    "        if x[0] == \"L\":\n",
    "            return [0,1]\n",
    "        if x[0] == \"R\":\n",
    "            return [0,-1]\n",
    "    if dir == [0,-1]:\n",
    "        if x[0] == \"L\":\n",
    "            return [-1,0]\n",
    "        if x[0] == \"R\":\n",
    "            return [1,0]\n",
    "\n",
    "def check_visited_places(place):\n",
    "    for p in visited_places:\n",
    "        if p == place:\n",
    "            print \"You have already visited %s, %s before. %s, %s\" %(place[0],place[1],p[0],p[1])\n",
    "            print \"It is %s blocks away\" %(abs(place[0])+abs(place[1]))\n",
    "    visited_places.append(place)\n",
    "\n",
    "path_file = open('bunnypath.txt')\n",
    "path_str = path_file.read()\n",
    "\n",
    "bunnypath = path_str.split(', ')\n",
    "#print bunnypath\n",
    "\n",
    "visited_places = [[0,0]]\n",
    "latitude = 0\n",
    "longitude = 0\n",
    "direction = [1,0]\n",
    "\n",
    "for x in bunnypath:\n",
    "    new_direction = find_direction(x, direction)\n",
    "    new_length = int(x[1:])\n",
    "    direction = new_direction\n",
    "    latitude = latitude + direction[0]*new_length\n",
    "    longitude = longitude + direction[1]*new_length\n",
    "    #print \"x is %s. Direction is %s, %s. Latitude is %s. Longitude is %s\" %(x, direction[0], direction[1], latitude, longitude)\n",
    "    check_visited_places([latitude,longitude])\n",
    "    \n",
    "hq_distance = abs(latitude) + abs (longitude)\n",
    "print \"Easter Bunny HQ is %s blocks away\" %hq_distance\n",
    "#print visited_places"
   ]
  },
  {
   "cell_type": "code",
   "execution_count": null,
   "metadata": {
    "collapsed": true
   },
   "outputs": [],
   "source": []
  }
 ],
 "metadata": {
  "anaconda-cloud": {},
  "kernelspec": {
   "display_name": "Python [Root]",
   "language": "python",
   "name": "Python [Root]"
  },
  "language_info": {
   "codemirror_mode": {
    "name": "ipython",
    "version": 2
   },
   "file_extension": ".py",
   "mimetype": "text/x-python",
   "name": "python",
   "nbconvert_exporter": "python",
   "pygments_lexer": "ipython2",
   "version": "2.7.12"
  }
 },
 "nbformat": 4,
 "nbformat_minor": 0
}
