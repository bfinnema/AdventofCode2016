{
 "cells": [
  {
   "cell_type": "code",
   "execution_count": 39,
   "metadata": {
    "collapsed": false
   },
   "outputs": [
    {
     "name": "stdout",
     "output_type": "stream",
     "text": [
      "You have already visited -145, -169 before. -145, -169\n",
      "It is 314 blocks away\n",
      "You have already visited -147, -161 before. -147, -161\n",
      "It is 308 blocks away\n",
      "You have already visited -145, -161 before. -145, -161\n",
      "It is 306 blocks away\n",
      "You have already visited -145, -166 before. -145, -166\n",
      "It is 311 blocks away\n",
      "You have already visited -144, -166 before. -144, -166\n",
      "It is 310 blocks away\n",
      "You have already visited -145, -161 before. -145, -161\n",
      "It is 306 blocks away\n",
      "You have already visited -145, -161 before. -145, -161\n",
      "It is 306 blocks away\n",
      "You have already visited -148, -164 before. -148, -164\n",
      "It is 312 blocks away\n",
      "Easter Bunny HQ is 332 blocks away\n",
      "[[0, 0], [0, -4], [-3, -4], [-3, -5], [-7, -5], [-7, -7], [-5, -7], [-5, -8], [-7, -8], [-7, -9], [-6, -9], [-6, -12], [-1, -12], [-1, -14], [4, -14], [4, -18], [1, -18], [1, -20], [3, -20], [3, -25], [2, -25], [2, -29], [1, -29], [1, -32], [-2, -32], [-2, -37], [0, -37], [0, -42], [2, -42], [2, -41], [1, -41], [1, -36], [0, -36], [0, -33], [2, -33], [2, -38], [6, -38], [6, -34], [8, -34], [8, -35], [7, -35], [7, -36], [8, -36], [8, -221], [12, -221], [12, -222], [11, -222], [11, -227], [12, -227], [12, -228], [9, -228], [9, -226], [10, -226], [10, -224], [8, -224], [8, -226], [7, -226], [7, -225], [3, -225], [3, -230], [56, -230], [56, -231], [57, -231], [57, -153], [54, -153], [54, -157], [53, -157], [53, -162], [52, -162], [52, -158], [49, -158], [49, -161], [46, -161], [46, -158], [-145, -158], [-145, -162], [-144, -162], [-144, -166], [-145, -166], [-145, -169], [-146, -169], [-146, -167], [-149, -167], [-149, -169], [-145, -169], [-145, -164], [-150, -164], [-150, -161], [-145, -161], [-145, -159], [-148, -159], [-148, -158], [-147, -158], [-147, -161], [-146, -161], [-146, -157], [-147, -157], [-147, -160], [-143, -160], [-143, -156], [-147, -156], [-147, -161], [-145, -161], [-145, -166], [-144, -166], [-144, -164], [-149, -164], [-149, -161], [-145, -161], [-145, -160], [-140, -160], [-140, -159], [-136, -159], [-136, -162], [-131, -162], [-131, -157], [-128, -157], [-128, -161], [-132, -161], [-132, -163], [-130, -163], [-130, -168], [-127, -168], [-127, -167], [-129, -167], [-129, -172], [-134, -172], [-134, -169], [-138, -169], [-138, -164], [-143, -164], [-143, -161], [-144, -161], [-144, -160], [-148, -160], [-148, -164], [-151, -164], [-151, -166], [-146, -166], [-146, -165], [-148, -165], [-148, -164], [-152, -164], [-152, -165], [-155, -165], [-155, -162], [-150, -162], [-150, -160], [-155, -160], [-155, -159], [-151, -159], [-151, -156], [-154, -156], [-154, -153], [-156, -153], [-156, -148], [-157, -148], [-157, -151], [-160, -151], [-160, -153], [-161, -153], [-161, -157], [-158, -157], [-158, -161], [-153, -161], [-153, -163], [-155, -163], [-155, -168], [-154, -168], [-154, -166], [-150, -166], [-150, -170], [-155, -170], [-155, -173], [-159, -173]]\n"
     ]
    }
   ],
   "source": [
    "def find_direction(x, dir):\n",
    "    #print \"Dir in function: %s\" %dir\n",
    "    if dir == [1,0]:\n",
    "        if x[0] == \"L\":\n",
    "            return [0,-1]\n",
    "        if x[0] == \"R\":\n",
    "            return [0,1]\n",
    "    if dir == [0,1]:\n",
    "        if x[0] == \"L\":\n",
    "            return [1,0]\n",
    "        if x[0] == \"R\":\n",
    "            return [-1,0]\n",
    "    if dir == [-1,0]:\n",
    "        if x[0] == \"L\":\n",
    "            return [0,1]\n",
    "        if x[0] == \"R\":\n",
    "            return [0,-1]\n",
    "    if dir == [0,-1]:\n",
    "        if x[0] == \"L\":\n",
    "            return [-1,0]\n",
    "        if x[0] == \"R\":\n",
    "            return [1,0]\n",
    "\n",
    "def check_visited_places(place):\n",
    "    for p in visited_places:\n",
    "        if p == place:\n",
    "            print \"You have already visited %s, %s before. %s, %s\" %(place[0],place[1],p[0],p[1])\n",
    "            print \"It is %s blocks away\" %(abs(place[0])+abs(place[1]))\n",
    "    visited_places.append(place)\n",
    "\n",
    "path_file = open('bunnypath.txt')\n",
    "path_str = path_file.read()\n",
    "\n",
    "bunnypath = path_str.split(', ')\n",
    "#print bunnypath\n",
    "\n",
    "visited_places = [[0,0]]\n",
    "latitude = 0\n",
    "longitude = 0\n",
    "direction = [1,0]\n",
    "\n",
    "for x in bunnypath:\n",
    "    new_direction = find_direction(x, direction)\n",
    "    new_length = int(x[1:])\n",
    "    direction = new_direction\n",
    "    latitude = latitude + direction[0]*new_length\n",
    "    longitude = longitude + direction[1]*new_length\n",
    "    #print \"x is %s. Direction is %s, %s. Latitude is %s. Longitude is %s\" %(x, direction[0], direction[1], latitude, longitude)\n",
    "    check_visited_places([latitude,longitude])\n",
    "    \n",
    "hq_distance = abs(latitude) + abs (longitude)\n",
    "print \"Easter Bunny HQ is %s blocks away\" %hq_distance\n",
    "print visited_places"
   ]
  },
  {
   "cell_type": "code",
   "execution_count": null,
   "metadata": {
    "collapsed": true
   },
   "outputs": [],
   "source": []
  }
 ],
 "metadata": {
  "anaconda-cloud": {},
  "kernelspec": {
   "display_name": "Python [Root]",
   "language": "python",
   "name": "Python [Root]"
  },
  "language_info": {
   "codemirror_mode": {
    "name": "ipython",
    "version": 2
   },
   "file_extension": ".py",
   "mimetype": "text/x-python",
   "name": "python",
   "nbconvert_exporter": "python",
   "pygments_lexer": "ipython2",
   "version": "2.7.12"
  }
 },
 "nbformat": 4,
 "nbformat_minor": 0
}
